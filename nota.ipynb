{
 "cells": [
  {
   "cell_type": "code",
   "execution_count": 1,
   "metadata": {},
   "outputs": [
    {
     "name": "stdout",
     "output_type": "stream",
     "text": [
      "Los primeros 10 valores de Fibonacci son: [0, 1, 1, 2, 3, 5, 8, 13, 21, 34, 55]\n"
     ]
    }
   ],
   "source": [
    "#definicion de las funcion \n",
    "function fivonachi(n)\n",
    "    if n == 0\n",
    "        return [0]\n",
    "    elseif n == 1\n",
    "        return [0, 1]\n",
    "    else\n",
    "        fib = fivonachi(n - 1)\n",
    "        push!(fib, fib[end] + fib[end - 1])\n",
    "        return fib\n",
    "    end\n",
    "end\n",
    "\n",
    "# llamado a las funciones \n",
    "posicion = 10\n",
    "valores_fibonacci = fivonachi(posicion)\n",
    "println(\"Los primeros $posicion valores de Fibonacci son: \", valores_fibonacci)\n"
   ]
  }
 ],
 "metadata": {
  "kernelspec": {
   "display_name": "Julia 1.10.4",
   "language": "julia",
   "name": "julia-1.10"
  },
  "language_info": {
   "file_extension": ".jl",
   "mimetype": "application/julia",
   "name": "julia",
   "version": "1.10.4"
  }
 },
 "nbformat": 4,
 "nbformat_minor": 2
}
